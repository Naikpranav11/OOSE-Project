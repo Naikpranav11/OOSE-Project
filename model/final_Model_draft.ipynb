{
  "cells": [
    {
      "cell_type": "code",
      "execution_count": 3,
      "metadata": {
        "colab": {
          "base_uri": "https://localhost:8080/"
        },
        "id": "UGPCzfOBGlX_",
        "outputId": "62d3a906-efe6-48fd-d1e7-6a062492e8f5"
      },
      "outputs": [
        {
          "name": "stdout",
          "output_type": "stream",
          "text": [
            "              precision    recall  f1-score   support\n",
            "\n",
            "           0       0.57      0.07      0.13       290\n",
            "           1       0.86      0.98      0.92      3832\n",
            "           2       0.88      0.54      0.67       835\n",
            "\n",
            "    accuracy                           0.86      4957\n",
            "   macro avg       0.77      0.53      0.57      4957\n",
            "weighted avg       0.84      0.86      0.83      4957\n",
            "\n",
            "Enter a tweet: you are sexist\n",
            "Prediction: Cyberbullying\n"
          ]
        }
      ],
      "source": [
        "import pandas as pd\n",
        "from sklearn.feature_extraction.text import TfidfVectorizer\n",
        "from sklearn.ensemble import RandomForestClassifier\n",
        "from sklearn.model_selection import train_test_split\n",
        "from sklearn.metrics import classification_report\n",
        "\n",
        "# Load the dataset\n",
        "data = pd.read_csv('Datasets\\labeled_data.csv')\n",
        "\n",
        "# Split the dataset into training and testing sets\n",
        "train_data, test_data, train_labels, test_labels = train_test_split(data['tweet'], data['class'], test_size=0.2, random_state=42)\n",
        "\n",
        "# Preprocess the text data using TF-IDF vectorizer\n",
        "vectorizer = TfidfVectorizer()\n",
        "train_vectors = vectorizer.fit_transform(train_data)\n",
        "test_vectors = vectorizer.transform(test_data)\n",
        "\n",
        "# Train a Random Forest Classifier\n",
        "classifier = RandomForestClassifier()\n",
        "classifier.fit(train_vectors, train_labels)\n",
        "\n",
        "# Make predictions on the test set\n",
        "predictions = classifier.predict(test_vectors)\n",
        "\n",
        "# Evaluate the model\n",
        "print(classification_report(test_labels, predictions))\n",
        "\n",
        "# User input for prediction\n",
        "user_tweet = input(\"Enter a tweet: \")\n",
        "user_tweet_vector = vectorizer.transform([user_tweet])\n",
        "prediction = classifier.predict(user_tweet_vector)\n",
        "print(f\"Prediction: {'Cyberbullying' if prediction == 1 else 'Non-cyberbullying'}\")"
      ]
    },
    {
      "cell_type": "code",
      "execution_count": null,
      "metadata": {},
      "outputs": [],
      "source": [
        "import pickle\n",
        "filename = 'cyberbully_model'\n",
        "pickle.dump(clf,open(filename,'wb'))"
      ]
    }
  ],
  "metadata": {
    "colab": {
      "provenance": []
    },
    "kernelspec": {
      "display_name": "Python 3",
      "language": "python",
      "name": "python3"
    },
    "language_info": {
      "name": "python",
      "version": "3.10.0"
    },
    "vscode": {
      "interpreter": {
        "hash": "afb734500600fd355917ca529030176ea0ca205570884b88f2f6f7d791fd3fbe"
      }
    }
  },
  "nbformat": 4,
  "nbformat_minor": 0
}
