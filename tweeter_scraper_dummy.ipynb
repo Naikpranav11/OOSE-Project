{
  "cells": [
    {
      "cell_type": "markdown",
      "metadata": {
        "colab_type": "text",
        "id": "view-in-github"
      },
      "source": [
        "<a href=\"https://colab.research.google.com/github/Naikpranav11/OOSE-Project/blob/main/tweeter_scraper_dummy.ipynb\" target=\"_parent\"><img src=\"https://colab.research.google.com/assets/colab-badge.svg\" alt=\"Open In Colab\"/></a>"
      ]
    },
    {
      "cell_type": "code",
      "execution_count": 1,
      "metadata": {
        "colab": {
          "base_uri": "https://localhost:8080/"
        },
        "id": "YDCVGExQvzfW",
        "outputId": "404d4369-6061-47c5-d738-ddf4f65499c3"
      },
      "outputs": [
        {
          "name": "stdout",
          "output_type": "stream",
          "text": [
            "Collecting snscrape\n",
            "  Downloading snscrape-0.5.0.20230113-py3-none-any.whl (69 kB)\n",
            "     ---------------------------------------- 0.0/69.2 kB ? eta -:--:--\n",
            "     ---------------- --------------------- 30.7/69.2 kB 660.6 kB/s eta 0:00:01\n",
            "     ---------------- --------------------- 30.7/69.2 kB 660.6 kB/s eta 0:00:01\n",
            "     ---------------- --------------------- 30.7/69.2 kB 660.6 kB/s eta 0:00:01\n",
            "     -------------------------------------- 69.2/69.2 kB 235.7 kB/s eta 0:00:00\n",
            "Requirement already satisfied: requests[socks] in c:\\users\\user\\appdata\\local\\programs\\python\\python310\\lib\\site-packages (from snscrape) (2.28.2)\n",
            "Collecting lxml\n",
            "  Downloading lxml-4.9.2-cp310-cp310-win_amd64.whl (3.8 MB)\n",
            "     ---------------------------------------- 0.0/3.8 MB ? eta -:--:--\n",
            "     ---------------------------------------- 0.0/3.8 MB ? eta -:--:--\n",
            "     ---------------------------------------- 0.0/3.8 MB ? eta -:--:--\n",
            "     ---------------------------------------- 0.0/3.8 MB ? eta -:--:--\n",
            "     ---------------------------------------- 0.0/3.8 MB ? eta -:--:--\n",
            "      --------------------------------------- 0.1/3.8 MB 272.3 kB/s eta 0:00:14\n",
            "     - -------------------------------------- 0.1/3.8 MB 385.0 kB/s eta 0:00:10\n",
            "     - -------------------------------------- 0.1/3.8 MB 385.0 kB/s eta 0:00:10\n",
            "     - -------------------------------------- 0.1/3.8 MB 385.0 kB/s eta 0:00:10\n",
            "     - -------------------------------------- 0.1/3.8 MB 300.4 kB/s eta 0:00:13\n",
            "     - -------------------------------------- 0.1/3.8 MB 300.4 kB/s eta 0:00:13\n",
            "     - -------------------------------------- 0.2/3.8 MB 349.3 kB/s eta 0:00:11\n",
            "     -- ------------------------------------- 0.2/3.8 MB 368.6 kB/s eta 0:00:10\n",
            "     -- ------------------------------------- 0.3/3.8 MB 472.9 kB/s eta 0:00:08\n",
            "     -- ------------------------------------- 0.3/3.8 MB 472.9 kB/s eta 0:00:08\n",
            "     --- ------------------------------------ 0.4/3.8 MB 530.7 kB/s eta 0:00:07\n",
            "     ---- ----------------------------------- 0.4/3.8 MB 527.0 kB/s eta 0:00:07\n",
            "     ----- ---------------------------------- 0.5/3.8 MB 641.7 kB/s eta 0:00:06\n",
            "     ----- ---------------------------------- 0.5/3.8 MB 681.8 kB/s eta 0:00:05\n",
            "     ------ --------------------------------- 0.6/3.8 MB 743.1 kB/s eta 0:00:05\n",
            "     ------ --------------------------------- 0.7/3.8 MB 751.0 kB/s eta 0:00:05\n",
            "     ------- -------------------------------- 0.7/3.8 MB 768.6 kB/s eta 0:00:04\n",
            "     ------- -------------------------------- 0.7/3.8 MB 738.9 kB/s eta 0:00:05\n",
            "     ------- -------------------------------- 0.7/3.8 MB 738.9 kB/s eta 0:00:05\n",
            "     ------- -------------------------------- 0.7/3.8 MB 738.9 kB/s eta 0:00:05\n",
            "     ------- -------------------------------- 0.7/3.8 MB 673.9 kB/s eta 0:00:05\n",
            "     ------- -------------------------------- 0.7/3.8 MB 673.9 kB/s eta 0:00:05\n",
            "     ------- -------------------------------- 0.7/3.8 MB 673.9 kB/s eta 0:00:05\n",
            "     ------- -------------------------------- 0.7/3.8 MB 673.9 kB/s eta 0:00:05\n",
            "     ------- -------------------------------- 0.7/3.8 MB 673.9 kB/s eta 0:00:05\n",
            "     ------- -------------------------------- 0.7/3.8 MB 673.9 kB/s eta 0:00:05\n",
            "     ------- -------------------------------- 0.7/3.8 MB 673.9 kB/s eta 0:00:05\n",
            "     ------- -------------------------------- 0.7/3.8 MB 673.9 kB/s eta 0:00:05\n",
            "     ------- -------------------------------- 0.7/3.8 MB 673.9 kB/s eta 0:00:05\n",
            "     ------- -------------------------------- 0.7/3.8 MB 673.9 kB/s eta 0:00:05\n",
            "     ------- -------------------------------- 0.7/3.8 MB 673.9 kB/s eta 0:00:05\n",
            "     ------- -------------------------------- 0.7/3.8 MB 673.9 kB/s eta 0:00:05\n",
            "     ------- -------------------------------- 0.7/3.8 MB 673.9 kB/s eta 0:00:05\n",
            "     ------- -------------------------------- 0.7/3.8 MB 673.9 kB/s eta 0:00:05\n",
            "     ------- -------------------------------- 0.7/3.8 MB 673.9 kB/s eta 0:00:05\n",
            "     ------- -------------------------------- 0.7/3.8 MB 673.9 kB/s eta 0:00:05\n",
            "     ------- -------------------------------- 0.7/3.8 MB 673.9 kB/s eta 0:00:05\n",
            "     ------- -------------------------------- 0.7/3.8 MB 673.9 kB/s eta 0:00:05\n",
            "     ------- -------------------------------- 0.7/3.8 MB 673.9 kB/s eta 0:00:05\n",
            "     ------- -------------------------------- 0.7/3.8 MB 673.9 kB/s eta 0:00:05\n",
            "     ------- -------------------------------- 0.7/3.8 MB 673.9 kB/s eta 0:00:05\n",
            "     ------- -------------------------------- 0.7/3.8 MB 673.9 kB/s eta 0:00:05\n",
            "     ------- -------------------------------- 0.7/3.8 MB 673.9 kB/s eta 0:00:05\n",
            "     ------- -------------------------------- 0.7/3.8 MB 673.9 kB/s eta 0:00:05\n",
            "     ---------- ----------------------------- 1.0/3.8 MB 465.5 kB/s eta 0:00:06\n",
            "     ---------- ----------------------------- 1.0/3.8 MB 465.5 kB/s eta 0:00:06\n",
            "     ---------- ----------------------------- 1.0/3.8 MB 465.5 kB/s eta 0:00:06\n",
            "     ---------- ----------------------------- 1.0/3.8 MB 465.5 kB/s eta 0:00:06\n",
            "     ---------- ----------------------------- 1.0/3.8 MB 465.5 kB/s eta 0:00:06\n",
            "     -------------- ------------------------- 1.3/3.8 MB 541.8 kB/s eta 0:00:05\n",
            "     -------------- ------------------------- 1.3/3.8 MB 541.8 kB/s eta 0:00:05\n",
            "     -------------- ------------------------- 1.3/3.8 MB 541.8 kB/s eta 0:00:05\n",
            "     -------------- ------------------------- 1.3/3.8 MB 541.8 kB/s eta 0:00:05\n",
            "     -------------- ------------------------- 1.3/3.8 MB 541.8 kB/s eta 0:00:05\n",
            "     -------------- ------------------------- 1.3/3.8 MB 541.8 kB/s eta 0:00:05\n",
            "     -------------- ------------------------- 1.3/3.8 MB 541.8 kB/s eta 0:00:05\n",
            "     -------------- ------------------------- 1.3/3.8 MB 541.8 kB/s eta 0:00:05\n",
            "     -------------- ------------------------- 1.3/3.8 MB 541.8 kB/s eta 0:00:05\n",
            "     ----------------- ---------------------- 1.6/3.8 MB 542.2 kB/s eta 0:00:04\n",
            "     ----------------- ---------------------- 1.6/3.8 MB 542.2 kB/s eta 0:00:04\n",
            "     ------------------- -------------------- 1.8/3.8 MB 582.2 kB/s eta 0:00:04\n",
            "     ----------------------- ---------------- 2.2/3.8 MB 681.2 kB/s eta 0:00:03\n",
            "     ----------------------- ---------------- 2.2/3.8 MB 681.2 kB/s eta 0:00:03\n",
            "     ----------------------- ---------------- 2.2/3.8 MB 671.1 kB/s eta 0:00:03\n",
            "     ----------------------- ---------------- 2.2/3.8 MB 671.1 kB/s eta 0:00:03\n",
            "     ----------------------- ---------------- 2.2/3.8 MB 661.5 kB/s eta 0:00:03\n",
            "     ----------------------- ---------------- 2.2/3.8 MB 649.4 kB/s eta 0:00:03\n",
            "     ------------------------ --------------- 2.3/3.8 MB 658.2 kB/s eta 0:00:03\n",
            "     ------------------------ --------------- 2.3/3.8 MB 658.2 kB/s eta 0:00:03\n",
            "     ------------------------ --------------- 2.3/3.8 MB 652.4 kB/s eta 0:00:03\n",
            "     ------------------------- -------------- 2.4/3.8 MB 661.0 kB/s eta 0:00:03\n",
            "     -------------------------- ------------- 2.5/3.8 MB 672.2 kB/s eta 0:00:02\n",
            "     -------------------------- ------------- 2.5/3.8 MB 674.6 kB/s eta 0:00:02\n",
            "     -------------------------- ------------- 2.5/3.8 MB 674.6 kB/s eta 0:00:02\n",
            "     -------------------------- ------------- 2.5/3.8 MB 666.1 kB/s eta 0:00:02\n",
            "     -------------------------- ------------- 2.5/3.8 MB 666.1 kB/s eta 0:00:02\n",
            "     -------------------------- ------------- 2.5/3.8 MB 666.1 kB/s eta 0:00:02\n",
            "     -------------------------- ------------- 2.5/3.8 MB 666.1 kB/s eta 0:00:02\n",
            "     -------------------------- ------------- 2.5/3.8 MB 666.1 kB/s eta 0:00:02\n",
            "     -------------------------- ------------- 2.5/3.8 MB 666.1 kB/s eta 0:00:02\n",
            "     ----------------------------- ---------- 2.8/3.8 MB 662.6 kB/s eta 0:00:02\n",
            "     ------------------------------ --------- 2.9/3.8 MB 681.9 kB/s eta 0:00:02\n",
            "     ------------------------------ --------- 2.9/3.8 MB 681.9 kB/s eta 0:00:02\n",
            "     ------------------------------ --------- 2.9/3.8 MB 681.9 kB/s eta 0:00:02\n",
            "     ------------------------------ --------- 2.9/3.8 MB 681.9 kB/s eta 0:00:02\n",
            "     ------------------------------ --------- 2.9/3.8 MB 681.9 kB/s eta 0:00:02\n",
            "     ------------------------------ --------- 2.9/3.8 MB 681.9 kB/s eta 0:00:02\n",
            "     ------------------------------ --------- 2.9/3.8 MB 681.9 kB/s eta 0:00:02\n",
            "     ------------------------------ --------- 2.9/3.8 MB 681.9 kB/s eta 0:00:02\n",
            "     ------------------------------ --------- 2.9/3.8 MB 681.9 kB/s eta 0:00:02\n",
            "     ------------------------------ --------- 2.9/3.8 MB 681.9 kB/s eta 0:00:02\n",
            "     -------------------------------- ------- 3.1/3.8 MB 625.9 kB/s eta 0:00:02\n",
            "     -------------------------------- ------- 3.1/3.8 MB 625.9 kB/s eta 0:00:02\n",
            "     -------------------------------- ------- 3.1/3.8 MB 625.9 kB/s eta 0:00:02\n",
            "     -------------------------------- ------- 3.1/3.8 MB 625.9 kB/s eta 0:00:02\n",
            "     ---------------------------------- ----- 3.2/3.8 MB 639.1 kB/s eta 0:00:01\n",
            "     ---------------------------------- ----- 3.2/3.8 MB 639.1 kB/s eta 0:00:01\n",
            "     ---------------------------------- ----- 3.2/3.8 MB 639.1 kB/s eta 0:00:01\n",
            "     ---------------------------------- ----- 3.2/3.8 MB 639.1 kB/s eta 0:00:01\n",
            "     ----------------------------------- ---- 3.3/3.8 MB 631.9 kB/s eta 0:00:01\n",
            "     ----------------------------------- ---- 3.3/3.8 MB 631.9 kB/s eta 0:00:01\n",
            "     ----------------------------------- ---- 3.3/3.8 MB 624.6 kB/s eta 0:00:01\n",
            "     ----------------------------------- ---- 3.4/3.8 MB 619.4 kB/s eta 0:00:01\n",
            "     ----------------------------------- ---- 3.4/3.8 MB 619.5 kB/s eta 0:00:01\n",
            "     ------------------------------------ --- 3.4/3.8 MB 618.1 kB/s eta 0:00:01\n",
            "     ------------------------------------ --- 3.4/3.8 MB 616.3 kB/s eta 0:00:01\n",
            "     ------------------------------------ --- 3.5/3.8 MB 618.7 kB/s eta 0:00:01\n",
            "     ------------------------------------- -- 3.5/3.8 MB 619.0 kB/s eta 0:00:01\n",
            "     ------------------------------------- -- 3.5/3.8 MB 619.2 kB/s eta 0:00:01\n",
            "     ------------------------------------- -- 3.5/3.8 MB 619.5 kB/s eta 0:00:01\n",
            "     ------------------------------------- -- 3.6/3.8 MB 618.0 kB/s eta 0:00:01\n",
            "     -------------------------------------- - 3.6/3.8 MB 618.2 kB/s eta 0:00:01\n",
            "     -------------------------------------- - 3.6/3.8 MB 618.5 kB/s eta 0:00:01\n",
            "     -------------------------------------- - 3.7/3.8 MB 620.5 kB/s eta 0:00:01\n",
            "     -------------------------------------- - 3.7/3.8 MB 620.5 kB/s eta 0:00:01\n",
            "     ---------------------------------------  3.7/3.8 MB 622.7 kB/s eta 0:00:01\n",
            "     ---------------------------------------  3.7/3.8 MB 622.7 kB/s eta 0:00:01\n",
            "     ---------------------------------------  3.7/3.8 MB 613.3 kB/s eta 0:00:01\n",
            "     ---------------------------------------  3.8/3.8 MB 613.5 kB/s eta 0:00:01\n",
            "     ---------------------------------------- 3.8/3.8 MB 611.3 kB/s eta 0:00:00\n",
            "Collecting beautifulsoup4\n",
            "  Downloading beautifulsoup4-4.11.2-py3-none-any.whl (129 kB)\n",
            "     ---------------------------------------- 0.0/129.4 kB ? eta -:--:--\n",
            "     ------------------ -------------------- 61.4/129.4 kB 1.1 MB/s eta 0:00:01\n",
            "     -------------------- ---------------- 71.7/129.4 kB 653.6 kB/s eta 0:00:01\n",
            "     ------------------------------- ---- 112.6/129.4 kB 726.2 kB/s eta 0:00:01\n",
            "     ------------------------------------ 129.4/129.4 kB 633.8 kB/s eta 0:00:00\n",
            "Collecting filelock\n",
            "  Downloading filelock-3.9.0-py3-none-any.whl (9.7 kB)\n",
            "Collecting soupsieve>1.2\n",
            "  Downloading soupsieve-2.4-py3-none-any.whl (37 kB)\n",
            "Requirement already satisfied: idna<4,>=2.5 in c:\\users\\user\\appdata\\local\\programs\\python\\python310\\lib\\site-packages (from requests[socks]->snscrape) (3.4)\n",
            "Requirement already satisfied: charset-normalizer<4,>=2 in c:\\users\\user\\appdata\\local\\programs\\python\\python310\\lib\\site-packages (from requests[socks]->snscrape) (3.0.1)\n",
            "Requirement already satisfied: urllib3<1.27,>=1.21.1 in c:\\users\\user\\appdata\\local\\programs\\python\\python310\\lib\\site-packages (from requests[socks]->snscrape) (1.26.14)\n",
            "Requirement already satisfied: certifi>=2017.4.17 in c:\\users\\user\\appdata\\local\\programs\\python\\python310\\lib\\site-packages (from requests[socks]->snscrape) (2022.12.7)\n",
            "Collecting PySocks!=1.5.7,>=1.5.6\n",
            "  Downloading PySocks-1.7.1-py3-none-any.whl (16 kB)\n",
            "Installing collected packages: soupsieve, PySocks, lxml, filelock, beautifulsoup4, snscrape\n",
            "Successfully installed PySocks-1.7.1 beautifulsoup4-4.11.2 filelock-3.9.0 lxml-4.9.2 snscrape-0.5.0.20230113 soupsieve-2.4\n",
            "Note: you may need to restart the kernel to use updated packages.\n"
          ]
        }
      ],
      "source": [
        "pip install snscrape"
      ]
    },
    {
      "cell_type": "code",
      "execution_count": 4,
      "metadata": {
        "colab": {
          "base_uri": "https://localhost:8080/"
        },
        "id": "KeeOSMKauqxR",
        "outputId": "fd279721-c2ba-475c-da0b-486ff2f6dcd2"
      },
      "outputs": [
        {
          "name": "stdout",
          "output_type": "stream",
          "text": [
            "Looking in indexes: https://pypi.org/simple, https://us-python.pkg.dev/colab-wheels/public/simple/\n",
            "Collecting git+https://github.com/JustAnotherArchivist/snscrape.git\n",
            "  Cloning https://github.com/JustAnotherArchivist/snscrape.git to /tmp/pip-req-build-njki1pkx\n",
            "  Running command git clone --filter=blob:none --quiet https://github.com/JustAnotherArchivist/snscrape.git /tmp/pip-req-build-njki1pkx\n",
            "  Resolved https://github.com/JustAnotherArchivist/snscrape.git to commit f329b69ed4022c4e8af5be8a07d4f5a4125bd8d9\n",
            "  Installing build dependencies ... \u001b[?25l\u001b[?25hdone\n",
            "  Getting requirements to build wheel ... \u001b[?25l\u001b[?25hdone\n",
            "  Installing backend dependencies ... \u001b[?25l\u001b[?25hdone\n",
            "  Preparing metadata (pyproject.toml) ... \u001b[?25l\u001b[?25hdone\n",
            "Building wheels for collected packages: UNKNOWN\n",
            "  Building wheel for UNKNOWN (pyproject.toml) ... \u001b[?25l\u001b[?25hdone\n",
            "  Created wheel for UNKNOWN: filename=UNKNOWN-0.5.0.20230114.dev31+gf329b69-py3-none-any.whl size=13563 sha256=02982f277984a5a7282f3b1ad265684998bd90d86c910d5f70e5046ce1bc6454\n",
            "  Stored in directory: /tmp/pip-ephem-wheel-cache-fwit578c/wheels/92/42/87/33fa9b18f7a75d02643a9ca3743339aec9be28c6796267c7d8\n",
            "Successfully built UNKNOWN\n",
            "Installing collected packages: UNKNOWN\n",
            "Successfully installed UNKNOWN-0.5.0.20230114.dev31+gf329b69\n"
          ]
        }
      ],
      "source": [
        "pip install git+https://github.com/JustAnotherArchivist/snscrape.git"
      ]
    },
    {
      "cell_type": "code",
      "execution_count": 2,
      "metadata": {
        "id": "cwfl6H4ovCBT"
      },
      "outputs": [],
      "source": [
        "import snscrape.modules.twitter as sntwitter\n",
        "import pandas as pd\n",
        "\n"
      ]
    },
    {
      "cell_type": "code",
      "execution_count": 6,
      "metadata": {
        "colab": {
          "base_uri": "https://localhost:8080/"
        },
        "id": "c1NFZD1svdFq",
        "outputId": "212b1e6a-6905-486e-db2f-41516d5cf913"
      },
      "outputs": [
        {
          "name": "stdout",
          "output_type": "stream",
          "text": [
            "pip 22.0.4 from /usr/local/lib/python3.8/dist-packages/pip (python 3.8)\n"
          ]
        }
      ],
      "source": [
        "pip --version\n"
      ]
    },
    {
      "cell_type": "code",
      "execution_count": 3,
      "metadata": {
        "colab": {
          "base_uri": "https://localhost:8080/"
        },
        "id": "NtPf9TZ4vIKo",
        "outputId": "6c856cd6-3aa0-4500-8983-84b9cf298570"
      },
      "outputs": [
        {
          "name": "stderr",
          "output_type": "stream",
          "text": [
            "C:\\Users\\User\\AppData\\Local\\Temp\\ipykernel_29528\\3826467612.py:8: FutureWarning: content is deprecated, use rawContent instead\n",
            "  attributes_container.append([tweet.likeCount, tweet.sourceLabel, tweet.content])\n"
          ]
        }
      ],
      "source": [
        "# Created a list to append all tweet attributes(data)\n",
        "attributes_container = []\n",
        "\n",
        "# Using TwitterSearchScraper to scrape data and append tweets to list\n",
        "for i,tweet in enumerate(sntwitter.TwitterSearchScraper('from:elonmusk').get_items()):\n",
        "    if i==1:\n",
        "        break\n",
        "    attributes_container.append([tweet.likeCount, tweet.sourceLabel, tweet.content])\n",
        "    \n",
        "# Creating a dataframe from the tweets list above \n",
        "tweets_df = pd.DataFrame(attributes_container, columns=[\"Number of Likes\", \"Source of Tweet\", \"Tweets\"])"
      ]
    },
    {
      "cell_type": "code",
      "execution_count": 4,
      "metadata": {
        "colab": {
          "base_uri": "https://localhost:8080/",
          "height": 81
        },
        "id": "eREXw9gJv8qB",
        "outputId": "c39fc74c-c4d4-4aa1-af0f-b965520cc427"
      },
      "outputs": [
        {
          "data": {
            "text/html": [
              "<div>\n",
              "<style scoped>\n",
              "    .dataframe tbody tr th:only-of-type {\n",
              "        vertical-align: middle;\n",
              "    }\n",
              "\n",
              "    .dataframe tbody tr th {\n",
              "        vertical-align: top;\n",
              "    }\n",
              "\n",
              "    .dataframe thead th {\n",
              "        text-align: right;\n",
              "    }\n",
              "</style>\n",
              "<table border=\"1\" class=\"dataframe\">\n",
              "  <thead>\n",
              "    <tr style=\"text-align: right;\">\n",
              "      <th></th>\n",
              "      <th>Number of Likes</th>\n",
              "      <th>Source of Tweet</th>\n",
              "      <th>Tweets</th>\n",
              "    </tr>\n",
              "  </thead>\n",
              "  <tbody>\n",
              "    <tr>\n",
              "      <th>0</th>\n",
              "      <td>409</td>\n",
              "      <td>Twitter for iPhone</td>\n",
              "      <td>@HeroDividend “Berkshire Hathaway high on Coke”</td>\n",
              "    </tr>\n",
              "  </tbody>\n",
              "</table>\n",
              "</div>"
            ],
            "text/plain": [
              "   Number of Likes     Source of Tweet  \\\n",
              "0              409  Twitter for iPhone   \n",
              "\n",
              "                                            Tweets  \n",
              "0  @HeroDividend “Berkshire Hathaway high on Coke”  "
            ]
          },
          "execution_count": 4,
          "metadata": {},
          "output_type": "execute_result"
        }
      ],
      "source": [
        "tweets_df  ## printing the data"
      ]
    },
    {
      "cell_type": "code",
      "execution_count": 5,
      "metadata": {
        "colab": {
          "base_uri": "https://localhost:8080/"
        },
        "id": "ADh6q_roxH6v",
        "outputId": "88a7295f-a5c8-4783-fcb4-1849079757cd"
      },
      "outputs": [
        {
          "name": "stdout",
          "output_type": "stream",
          "text": [
            "Note: you may need to restart the kernel to use updated packages.\n"
          ]
        },
        {
          "name": "stderr",
          "output_type": "stream",
          "text": [
            "ERROR: Invalid requirement: '##installing'\n"
          ]
        }
      ],
      "source": [
        "pip install jsonify   ##installing jsonify"
      ]
    },
    {
      "cell_type": "code",
      "execution_count": 6,
      "metadata": {
        "id": "ATJeZTUkxQYM"
      },
      "outputs": [
        {
          "ename": "ModuleNotFoundError",
          "evalue": "No module named 'jsonify'",
          "output_type": "error",
          "traceback": [
            "\u001b[1;31m---------------------------------------------------------------------------\u001b[0m",
            "\u001b[1;31mModuleNotFoundError\u001b[0m                       Traceback (most recent call last)",
            "Cell \u001b[1;32mIn[6], line 1\u001b[0m\n\u001b[1;32m----> 1\u001b[0m \u001b[39mimport\u001b[39;00m \u001b[39mjsonify\u001b[39;00m\n\u001b[0;32m      2\u001b[0m \u001b[39mimport\u001b[39;00m \u001b[39mjson\u001b[39;00m\n",
            "\u001b[1;31mModuleNotFoundError\u001b[0m: No module named 'jsonify'"
          ]
        }
      ],
      "source": [
        "import jsonify\n",
        "import json"
      ]
    },
    {
      "cell_type": "code",
      "execution_count": 28,
      "metadata": {
        "id": "Lnkd5XZAxSNc"
      },
      "outputs": [],
      "source": [
        "output = json.dumps(attributes_container)  ## converting the attributes_container(list type) into json file to send the output to ml model"
      ]
    },
    {
      "cell_type": "code",
      "execution_count": 30,
      "metadata": {
        "colab": {
          "base_uri": "https://localhost:8080/",
          "height": 36
        },
        "id": "hbH4QbkQyLJP",
        "outputId": "30ab0ef4-51a8-42fc-bdb8-fa8db609c924"
      },
      "outputs": [
        {
          "data": {
            "application/vnd.google.colaboratory.intrinsic+json": {
              "type": "string"
            },
            "text/plain": [
              "'[[1003, \"Twitter for iPhone\", \"@ibuildthecloud lol\"]]'"
            ]
          },
          "execution_count": 30,
          "metadata": {},
          "output_type": "execute_result"
        }
      ],
      "source": [
        "output"
      ]
    }
  ],
  "metadata": {
    "colab": {
      "authorship_tag": "ABX9TyNIyt5nRWXtLfiu9IT7a4K/",
      "include_colab_link": true,
      "provenance": []
    },
    "kernelspec": {
      "display_name": "Python 3",
      "language": "python",
      "name": "python3"
    },
    "language_info": {
      "codemirror_mode": {
        "name": "ipython",
        "version": 3
      },
      "file_extension": ".py",
      "mimetype": "text/x-python",
      "name": "python",
      "nbconvert_exporter": "python",
      "pygments_lexer": "ipython3",
      "version": "3.10.0"
    },
    "vscode": {
      "interpreter": {
        "hash": "afb734500600fd355917ca529030176ea0ca205570884b88f2f6f7d791fd3fbe"
      }
    }
  },
  "nbformat": 4,
  "nbformat_minor": 0
}
